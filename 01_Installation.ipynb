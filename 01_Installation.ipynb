{
 "cells": [
  {
   "cell_type": "markdown",
   "metadata": {},
   "source": [
    "# Pytorch Installation\n",
    "\n",
    "[Pytorch Installation Website](https://pytorch.org/get-started/locally/)\n",
    "\n",
    "- select OS: Windows\n",
    "- select Package: conda or pip\n",
    "- select Cuda Version: 12.1\n",
    "\n",
    "\n",
    "Video:\n",
    "\n",
    "[Installation Video 1](https://www.youtube.com/watch?v=d_jBX7OrptI)\n",
    "\n",
    "[Installation Video 2](https://www.youtube.com/watch?v=EMXfZB8FVUA&list=PLqnslRFeH2UrcDBWF5mfPGpqQDSta6VK4&index=1)\n",
    "\n",
    "[Uninstall CUDA](https://www.youtube.com/watch?v=krAUwYslS8E)"
   ]
  },
  {
   "cell_type": "markdown",
   "metadata": {},
   "source": [
    "# Install Cuda Toolkit\n",
    "Development environment for creating high performance GPU-accelerated applications\n",
    "You need an NVIDIA GPU in your machine:\n",
    "\n",
    "https://developer.nvidia.com/cuda-downloads"
   ]
  },
  {
   "cell_type": "markdown",
   "metadata": {},
   "source": [
    "# Anaconda Installation\n",
    "\n",
    "[Anaconda Installation](https://www.anaconda.com/download/success)"
   ]
  },
  {
   "cell_type": "markdown",
   "metadata": {},
   "source": [
    "Ensure that your system PATH is correctly set to include the Conda directory. The PATH should include:\n",
    "- C:\\Users\\<YourUsername>\\anaconda3\n",
    "- C:\\Users\\<YourUsername>\\anaconda3\\Scripts\n",
    "\n",
    "# Check version\n",
    "conda --version\n",
    "\n",
    "# To initialize Conda for Git Bash\n",
    "conda init bash\n",
    "\n",
    "# Create conda environment and activate it \n",
    "conda create -n pytorch_learn python=3.12\n",
    "conda activate pytorch_learn\n",
    "\n",
    "# Install Pytorch\n",
    "conda install pytorch torchvision torchaudio pytorch-cuda=12.1 -c pytorch -c nvidia\n",
    "\n"
   ]
  },
  {
   "cell_type": "code",
   "execution_count": 1,
   "metadata": {},
   "outputs": [
    {
     "name": "stdout",
     "output_type": "stream",
     "text": [
      "tensor([[0.7144, 0.5116, 0.2353],\n",
      "        [0.5771, 0.3634, 0.0626],\n",
      "        [0.3138, 0.5578, 0.3346],\n",
      "        [0.4361, 0.9916, 0.4017],\n",
      "        [0.0727, 0.0375, 0.1589]])\n"
     ]
    },
    {
     "data": {
      "text/plain": [
       "True"
      ]
     },
     "execution_count": 1,
     "metadata": {},
     "output_type": "execute_result"
    }
   ],
   "source": [
    "# Verification:\n",
    "import torch\n",
    "x = torch.rand(5, 3)\n",
    "print(x)\n",
    "\n",
    "torch.cuda.is_available()"
   ]
  },
  {
   "cell_type": "markdown",
   "metadata": {},
   "source": [
    "# Anaconda Tutorial \n",
    "\n",
    "[Anaconda Tutorial](https://www.youtube.com/watch?v=9nEh-OXVaNI)"
   ]
  },
  {
   "cell_type": "markdown",
   "metadata": {},
   "source": [
    "# Create Conda Environment with Additional Packages\n",
    "conda create -n pytorch_learn python=3.12 numpy pandas matplotlib scikit-learn\n",
    "\n",
    "# Activate Conda Environment\n",
    "conda activate pytorch_learn\n",
    "\n",
    "# Deactivate Conda Environment\n",
    "conda deactivate\n",
    "\n",
    "# List all Conda Environments\n",
    "conda env list\n",
    "\n",
    "# Remove Conda Environment\n",
    "conda env remove -n pytorch_learn\n",
    "\n",
    "# Install Jupyter Notebook and Numpy\n",
    "conda install jupyter numpy\n",
    "\n",
    "# Install Specific Version of a Package\n",
    "conda install numpy=1.20\n",
    "\n",
    "# Update a Package\n",
    "conda update numpy\n",
    "\n",
    "# Remove a Package\n",
    "conda remove numpy\n",
    "\n",
    "# Install a Package in Conda with Pip\n",
    "conda install pip # without this step, you will use the global pip\n",
    "pip install numpy\n",
    "\n",
    "# List all packages in Conda Environment\n",
    "conda list\n",
    "\n",
    "# Search for a package in Conda Environment\n",
    "conda search pandas\n",
    "\n",
    "# Export Conda Environment\n",
    "conda env export > environment.yml\n",
    "\n",
    "# Create Conda Environment from Environment File\n",
    "conda env create -f environment.yml\n",
    "\n",
    "# Create Conda Environment from Environment File with Specific Name\n",
    "conda env create -f environment.yml -n new_env\n",
    "conda activate new_env\n",
    "\n",
    "# Export the Environment to requirements.txt\n",
    "conda list --export > requirements.txt\n",
    "\n",
    "# Convert Conda Environment to requirements.txt Format with pip\n",
    "conda install pip\n",
    "pip freeze > requirements.txt\n",
    "\n",
    "# Install the Environment from requirements.txt\n",
    "conda install --file requirements.txt\n",
    "\n",
    "# Install the Environment from requirements.txt in a Specific Environment\n",
    "conda install --file requirements.txt -n new_env\n",
    "\n"
   ]
  }
 ],
 "metadata": {
  "kernelspec": {
   "display_name": "pytorch_learn",
   "language": "python",
   "name": "python3"
  },
  "language_info": {
   "codemirror_mode": {
    "name": "ipython",
    "version": 3
   },
   "file_extension": ".py",
   "mimetype": "text/x-python",
   "name": "python",
   "nbconvert_exporter": "python",
   "pygments_lexer": "ipython3",
   "version": "3.12.4"
  }
 },
 "nbformat": 4,
 "nbformat_minor": 2
}
