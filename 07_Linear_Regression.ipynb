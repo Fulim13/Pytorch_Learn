{
 "cells": [
  {
   "cell_type": "code",
   "execution_count": 43,
   "metadata": {},
   "outputs": [],
   "source": [
    "import torch\n",
    "import torch.nn as nn\n",
    "import numpy as np\n",
    "from sklearn import datasets\n",
    "import matplotlib.pyplot as plt"
   ]
  },
  {
   "cell_type": "code",
   "execution_count": 44,
   "metadata": {},
   "outputs": [],
   "source": [
    "# 0) Prepare data\n",
    "# The noise=20 means that Gaussian noise with a standard deviation of 20 \n",
    "# is added to the output (target) variable, introducing random variations \n",
    "# around the true regression line\n",
    "X_numpy, y_numpy = datasets.make_regression(n_samples=100, n_features=1, noise=20, random_state=4)"
   ]
  },
  {
   "cell_type": "code",
   "execution_count": 45,
   "metadata": {},
   "outputs": [
    {
     "data": {
      "text/plain": [
       "array([[-1.3474603 ],\n",
       "       [ 0.3523434 ],\n",
       "       [ 0.9546986 ],\n",
       "       [ 0.03592805],\n",
       "       [ 0.04800625],\n",
       "       [ 0.04860301],\n",
       "       [ 0.72334161],\n",
       "       [ 0.80208661],\n",
       "       [-1.14379857],\n",
       "       [ 0.17941071],\n",
       "       [-0.64770677],\n",
       "       [-1.11281215],\n",
       "       [-1.58457724],\n",
       "       [-0.08798693],\n",
       "       [ 2.47658416],\n",
       "       [-0.7322647 ],\n",
       "       [ 1.54697933],\n",
       "       [-0.13070464],\n",
       "       [ 0.30044554],\n",
       "       [-0.9443686 ],\n",
       "       [-0.30296397],\n",
       "       [-0.37444492],\n",
       "       [-1.15681626],\n",
       "       [ 0.59857517],\n",
       "       [-2.37977527],\n",
       "       [-0.60768369],\n",
       "       [ 0.54245131],\n",
       "       [ 2.02240507],\n",
       "       [ 0.04613557],\n",
       "       [ 0.52324766],\n",
       "       [ 0.29714121],\n",
       "       [-1.54292905],\n",
       "       [ 1.69235772],\n",
       "       [ 0.20931349],\n",
       "       [-0.41830152],\n",
       "       [ 0.87084178],\n",
       "       [-1.14747663],\n",
       "       [-0.17521053],\n",
       "       [-0.9617768 ],\n",
       "       [ 0.1886462 ],\n",
       "       [ 1.20200259],\n",
       "       [ 1.99008302],\n",
       "       [-1.36096559],\n",
       "       [-0.05455871],\n",
       "       [ 1.16418756],\n",
       "       [-1.45553433],\n",
       "       [ 0.01908996],\n",
       "       [-0.77873992],\n",
       "       [ 0.03754749],\n",
       "       [-0.34610187],\n",
       "       [-0.65122583],\n",
       "       [ 0.15846954],\n",
       "       [-1.20894816],\n",
       "       [-0.64764453],\n",
       "       [ 0.91484096],\n",
       "       [-1.84087587],\n",
       "       [ 0.49995133],\n",
       "       [ 1.27181862],\n",
       "       [ 0.69359851],\n",
       "       [ 0.55618522],\n",
       "       [ 0.4250724 ],\n",
       "       [-1.09712188],\n",
       "       [-0.5648753 ],\n",
       "       [ 0.35099715],\n",
       "       [ 0.83783635],\n",
       "       [ 0.05443274],\n",
       "       [-0.0093601 ],\n",
       "       [-2.35807363],\n",
       "       [-0.98299165],\n",
       "       [ 0.93465006],\n",
       "       [ 0.79523395],\n",
       "       [ 0.50991978],\n",
       "       [-0.17146461],\n",
       "       [ 0.15989294],\n",
       "       [ 2.22336022],\n",
       "       [ 0.33225315],\n",
       "       [ 0.05056171],\n",
       "       [-0.52819607],\n",
       "       [ 0.43027133],\n",
       "       [ 1.63574754],\n",
       "       [ 0.78660228],\n",
       "       [-0.60688728],\n",
       "       [ 0.39429521],\n",
       "       [ 0.7965119 ],\n",
       "       [-1.07529009],\n",
       "       [-0.19674528],\n",
       "       [ 0.8365287 ],\n",
       "       [-0.49581852],\n",
       "       [ 1.3799201 ],\n",
       "       [ 0.067471  ],\n",
       "       [-0.99590893],\n",
       "       [-0.90543814],\n",
       "       [-0.27620335],\n",
       "       [ 0.24266016],\n",
       "       [ 0.50977885],\n",
       "       [ 0.33225003],\n",
       "       [-1.10558404],\n",
       "       [ 2.08787087],\n",
       "       [ 0.28086468],\n",
       "       [ 0.61866969]])"
      ]
     },
     "execution_count": 45,
     "metadata": {},
     "output_type": "execute_result"
    }
   ],
   "source": [
    "X_numpy"
   ]
  },
  {
   "cell_type": "code",
   "execution_count": 46,
   "metadata": {},
   "outputs": [
    {
     "data": {
      "text/plain": [
       "array([-126.24922409,   50.92876904,   63.15463302,    6.05472009,\n",
       "         -5.72954025,   -2.75191769,   58.70355923,   53.81362958,\n",
       "        -95.34105851,   24.64812471,  -59.41697406,  -73.42349619,\n",
       "       -104.16266749,   31.80766772,  171.15350154,  -67.75196497,\n",
       "        141.46769811,  -24.36756973,   -2.11240097,  -32.59583109,\n",
       "        -29.41505819,  -37.87145989, -101.89829601,   46.41287784,\n",
       "       -181.34840044,  -31.77399504,   24.13154879,  163.94385144,\n",
       "         10.77367111,   37.35891532,    0.98036703, -120.88573188,\n",
       "        138.19938797,    9.20267903,  -16.2068899 ,   33.21708479,\n",
       "        -45.61698488,   -1.77758908, -105.56283971,    5.26394625,\n",
       "         89.5978923 ,  146.10300439,  -77.78704394,   -3.80893607,\n",
       "         60.81195812,  -97.2027103 ,   -1.15989334,  -43.88245964,\n",
       "         15.74278405,  -24.27446551,  -90.60148118,  -19.07314539,\n",
       "       -101.79001521,  -56.55140067,   52.1696979 , -158.28468928,\n",
       "         64.53968736,   84.52102913,   66.43434451,   36.86598297,\n",
       "         37.43779494,  -82.91713341,  -21.4183161 ,   -5.54348338,\n",
       "         59.88451573,    8.3784894 ,  -17.17634894, -160.50895428,\n",
       "       -100.73717846,   80.30335894,   69.64956653,   28.14443518,\n",
       "          9.7630474 ,   41.12497399,  176.92831393,    9.55981705,\n",
       "         -4.40463276,  -24.03585202,   19.1701073 ,  102.48327018,\n",
       "        101.52088195,  -58.51318402,   17.68768961,   63.05366753,\n",
       "       -102.36728191,   -1.65856494,   64.66264562,  -44.1299115 ,\n",
       "        117.99658351,   -4.63168152,  -76.71464299,  -67.2815873 ,\n",
       "        -12.46435171,   24.2973507 ,   31.43120085,   34.44108322,\n",
       "        -74.76820338,  160.99602125,   40.69772522,   33.43401768])"
      ]
     },
     "execution_count": 46,
     "metadata": {},
     "output_type": "execute_result"
    }
   ],
   "source": [
    "y_numpy"
   ]
  },
  {
   "cell_type": "code",
   "execution_count": 47,
   "metadata": {},
   "outputs": [
    {
     "name": "stdout",
     "output_type": "stream",
     "text": [
      "float64\n",
      "float64\n"
     ]
    }
   ],
   "source": [
    "print(X_numpy.dtype)\n",
    "print(y_numpy.dtype)"
   ]
  },
  {
   "cell_type": "code",
   "execution_count": 48,
   "metadata": {},
   "outputs": [],
   "source": [
    "# cast to float Tensor\n",
    "X = torch.from_numpy(X_numpy.astype(np.float32))\n",
    "y = torch.from_numpy(y_numpy.astype(np.float32))"
   ]
  },
  {
   "cell_type": "code",
   "execution_count": 49,
   "metadata": {},
   "outputs": [
    {
     "data": {
      "text/plain": [
       "torch.Size([100])"
      ]
     },
     "execution_count": 49,
     "metadata": {},
     "output_type": "execute_result"
    }
   ],
   "source": [
    "y.shape"
   ]
  },
  {
   "cell_type": "code",
   "execution_count": 50,
   "metadata": {},
   "outputs": [
    {
     "data": {
      "text/plain": [
       "tensor([[-126.2492],\n",
       "        [  50.9288],\n",
       "        [  63.1546],\n",
       "        [   6.0547],\n",
       "        [  -5.7295],\n",
       "        [  -2.7519],\n",
       "        [  58.7036],\n",
       "        [  53.8136],\n",
       "        [ -95.3411],\n",
       "        [  24.6481],\n",
       "        [ -59.4170],\n",
       "        [ -73.4235],\n",
       "        [-104.1627],\n",
       "        [  31.8077],\n",
       "        [ 171.1535],\n",
       "        [ -67.7520],\n",
       "        [ 141.4677],\n",
       "        [ -24.3676],\n",
       "        [  -2.1124],\n",
       "        [ -32.5958],\n",
       "        [ -29.4151],\n",
       "        [ -37.8715],\n",
       "        [-101.8983],\n",
       "        [  46.4129],\n",
       "        [-181.3484],\n",
       "        [ -31.7740],\n",
       "        [  24.1315],\n",
       "        [ 163.9438],\n",
       "        [  10.7737],\n",
       "        [  37.3589],\n",
       "        [   0.9804],\n",
       "        [-120.8857],\n",
       "        [ 138.1994],\n",
       "        [   9.2027],\n",
       "        [ -16.2069],\n",
       "        [  33.2171],\n",
       "        [ -45.6170],\n",
       "        [  -1.7776],\n",
       "        [-105.5628],\n",
       "        [   5.2639],\n",
       "        [  89.5979],\n",
       "        [ 146.1030],\n",
       "        [ -77.7870],\n",
       "        [  -3.8089],\n",
       "        [  60.8120],\n",
       "        [ -97.2027],\n",
       "        [  -1.1599],\n",
       "        [ -43.8825],\n",
       "        [  15.7428],\n",
       "        [ -24.2745],\n",
       "        [ -90.6015],\n",
       "        [ -19.0731],\n",
       "        [-101.7900],\n",
       "        [ -56.5514],\n",
       "        [  52.1697],\n",
       "        [-158.2847],\n",
       "        [  64.5397],\n",
       "        [  84.5210],\n",
       "        [  66.4343],\n",
       "        [  36.8660],\n",
       "        [  37.4378],\n",
       "        [ -82.9171],\n",
       "        [ -21.4183],\n",
       "        [  -5.5435],\n",
       "        [  59.8845],\n",
       "        [   8.3785],\n",
       "        [ -17.1763],\n",
       "        [-160.5090],\n",
       "        [-100.7372],\n",
       "        [  80.3034],\n",
       "        [  69.6496],\n",
       "        [  28.1444],\n",
       "        [   9.7630],\n",
       "        [  41.1250],\n",
       "        [ 176.9283],\n",
       "        [   9.5598],\n",
       "        [  -4.4046],\n",
       "        [ -24.0359],\n",
       "        [  19.1701],\n",
       "        [ 102.4833],\n",
       "        [ 101.5209],\n",
       "        [ -58.5132],\n",
       "        [  17.6877],\n",
       "        [  63.0537],\n",
       "        [-102.3673],\n",
       "        [  -1.6586],\n",
       "        [  64.6626],\n",
       "        [ -44.1299],\n",
       "        [ 117.9966],\n",
       "        [  -4.6317],\n",
       "        [ -76.7146],\n",
       "        [ -67.2816],\n",
       "        [ -12.4644],\n",
       "        [  24.2973],\n",
       "        [  31.4312],\n",
       "        [  34.4411],\n",
       "        [ -74.7682],\n",
       "        [ 160.9960],\n",
       "        [  40.6977],\n",
       "        [  33.4340]])"
      ]
     },
     "execution_count": 50,
     "metadata": {},
     "output_type": "execute_result"
    }
   ],
   "source": [
    "# reshape y to become column vector\n",
    "y = y.view(y.shape[0], 1)\n",
    "y"
   ]
  },
  {
   "cell_type": "code",
   "execution_count": 51,
   "metadata": {},
   "outputs": [
    {
     "data": {
      "text/plain": [
       "torch.Size([100, 1])"
      ]
     },
     "execution_count": 51,
     "metadata": {},
     "output_type": "execute_result"
    }
   ],
   "source": [
    "y.shape"
   ]
  },
  {
   "cell_type": "code",
   "execution_count": 52,
   "metadata": {},
   "outputs": [
    {
     "name": "stdout",
     "output_type": "stream",
     "text": [
      "100 1\n"
     ]
    }
   ],
   "source": [
    "n_samples, n_features = X.shape\n",
    "print(n_samples, n_features)"
   ]
  },
  {
   "cell_type": "code",
   "execution_count": 53,
   "metadata": {},
   "outputs": [],
   "source": [
    "# 1) Model\n",
    "# Linear model f = wx + b\n",
    "input_size = n_features\n",
    "output_size = 1 # one numerical value per sample\n",
    "model = nn.Linear(input_size, output_size)"
   ]
  },
  {
   "cell_type": "code",
   "execution_count": 54,
   "metadata": {},
   "outputs": [],
   "source": [
    "# 2) Loss and optimizer\n",
    "# hyperparameters\n",
    "learning_rate = 0.01\n",
    "\n",
    "criterion = nn.MSELoss()\n",
    "optimizer = torch.optim.SGD(model.parameters(), lr=learning_rate)  \n"
   ]
  },
  {
   "cell_type": "code",
   "execution_count": 55,
   "metadata": {},
   "outputs": [
    {
     "name": "stdout",
     "output_type": "stream",
     "text": [
      "epoch: 10, loss = 4099.3657\n",
      "epoch: 20, loss = 2887.0815\n",
      "epoch: 30, loss = 2060.9827\n",
      "epoch: 40, loss = 1497.9219\n",
      "epoch: 50, loss = 1114.0626\n",
      "epoch: 60, loss = 852.3157\n",
      "epoch: 70, loss = 673.7977\n",
      "epoch: 80, loss = 552.0198\n",
      "epoch: 90, loss = 468.9309\n",
      "epoch: 100, loss = 412.2285\n",
      "epoch: 110, loss = 373.5258\n"
     ]
    },
    {
     "name": "stdout",
     "output_type": "stream",
     "text": [
      "epoch: 120, loss = 347.1038\n",
      "epoch: 130, loss = 329.0623\n",
      "epoch: 140, loss = 316.7413\n",
      "epoch: 150, loss = 308.3255\n",
      "epoch: 160, loss = 302.5761\n",
      "epoch: 170, loss = 298.6477\n",
      "epoch: 180, loss = 295.9630\n",
      "epoch: 190, loss = 294.1280\n",
      "epoch: 200, loss = 292.8736\n",
      "epoch: 210, loss = 292.0160\n",
      "epoch: 220, loss = 291.4296\n",
      "epoch: 230, loss = 291.0285\n",
      "epoch: 240, loss = 290.7542\n",
      "epoch: 250, loss = 290.5665\n",
      "epoch: 260, loss = 290.4382\n",
      "epoch: 270, loss = 290.3503\n",
      "epoch: 280, loss = 290.2902\n",
      "epoch: 290, loss = 290.2491\n",
      "epoch: 300, loss = 290.2209\n",
      "epoch: 310, loss = 290.2016\n",
      "epoch: 320, loss = 290.1884\n",
      "epoch: 330, loss = 290.1794\n",
      "epoch: 340, loss = 290.1732\n",
      "epoch: 350, loss = 290.1690\n",
      "epoch: 360, loss = 290.1660\n",
      "epoch: 370, loss = 290.1640\n",
      "epoch: 380, loss = 290.1627\n",
      "epoch: 390, loss = 290.1617\n",
      "epoch: 400, loss = 290.1611\n",
      "epoch: 410, loss = 290.1607\n",
      "epoch: 420, loss = 290.1604\n",
      "epoch: 430, loss = 290.1602\n",
      "epoch: 440, loss = 290.1600\n",
      "epoch: 450, loss = 290.1599\n",
      "epoch: 460, loss = 290.1599\n",
      "epoch: 470, loss = 290.1599\n",
      "epoch: 480, loss = 290.1598\n",
      "epoch: 490, loss = 290.1598\n",
      "epoch: 500, loss = 290.1598\n"
     ]
    }
   ],
   "source": [
    "# 3) Training loop\n",
    "num_epochs = 500\n",
    "for epoch in range(num_epochs):\n",
    "    # Forward pass and loss\n",
    "    y_predicted = model(X)\n",
    "    loss = criterion(y_predicted, y)\n",
    "    \n",
    "    # Backward pass and update\n",
    "    loss.backward()\n",
    "    optimizer.step()\n",
    "\n",
    "    # zero grad before new step\n",
    "    optimizer.zero_grad()\n",
    "\n",
    "    if (epoch+1) % 10 == 0:\n",
    "        print(f'epoch: {epoch+1}, loss = {loss.item():.4f}')"
   ]
  },
  {
   "cell_type": "code",
   "execution_count": 56,
   "metadata": {},
   "outputs": [
    {
     "data": {
      "image/png": "[encoded data removed]",
      "text/plain": [
       "<Figure size 640x480 with 1 Axes>"
      ]
     },
     "metadata": {},
     "output_type": "display_data"
    }
   ],
   "source": [
    "# Plot\n",
    "# model(X).detach to prevent tracking history in autograd \n",
    "# by generating new tensor that does not require gradients\n",
    "# and convert to numpy\n",
    "predicted = model(X).detach().numpy()\n",
    "\n",
    "plt.plot(X_numpy, y_numpy, 'ro') # 'ro' means red color and 'o' shape (RED DOTS) (scatter plot)\n",
    "plt.plot(X_numpy, predicted, 'b') # 'b' means blue color (line plot)\n",
    "plt.show()"
   ]
  },
  {
   "cell_type": "code",
   "execution_count": null,
   "metadata": {},
   "outputs": [],
   "source": []
  }
 ],
 "metadata": {
  "kernelspec": {
   "display_name": "pytorch_learn",
   "language": "python",
   "name": "python3"
  },
  "language_info": {
   "codemirror_mode": {
    "name": "ipython",
    "version": 3
   },
   "file_extension": ".py",
   "mimetype": "text/x-python",
   "name": "python",
   "nbconvert_exporter": "python",
   "pygments_lexer": "ipython3",
   "version": "3.12.4"
  }
 },
 "nbformat": 4,
 "nbformat_minor": 2
}
