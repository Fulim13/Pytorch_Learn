{
  "cells": [
    {
      "cell_type": "markdown",
      "metadata": {
        "id": "view-in-github",
        "colab_type": "text"
      },
      "source": [
        "<a href=\"https://colab.research.google.com/github/Fulim13/Pytorch_Learning/blob/main/02_Tensor_Basic.ipynb\" target=\"_parent\"><img src=\"https://colab.research.google.com/assets/colab-badge.svg\" alt=\"Open In Colab\"/></a>"
      ]
    },
    {
      "cell_type": "code",
      "execution_count": null,
      "metadata": {
        "id": "s8x6mm36k5oE"
      },
      "outputs": [],
      "source": [
        "import torch"
      ]
    },
    {
      "cell_type": "code",
      "execution_count": null,
      "metadata": {
        "id": "BFCEC0ogk5oF"
      },
      "outputs": [],
      "source": [
        "# Everything in pytorch is based on Tensor operations.\n",
        "# A tensor can have different dimensions\n",
        "# so it can be 1d, 2d, or even 3d and higher"
      ]
    },
    {
      "cell_type": "code",
      "execution_count": null,
      "metadata": {
        "id": "Bn2LDVhQk5oF",
        "outputId": "0e38dbf5-b019-4ec0-d337-c82b6aa8cf07"
      },
      "outputs": [
        {
          "name": "stdout",
          "output_type": "stream",
          "text": [
            "tensor([0.])\n"
          ]
        }
      ],
      "source": [
        "# scalar, vector, matrix, tensor\n",
        "\n",
        "# torch.empty(size): uninitiallized\n",
        "x = torch.empty(1)  # scalar\n",
        "print(x)"
      ]
    },
    {
      "cell_type": "code",
      "execution_count": null,
      "metadata": {
        "id": "XNN6_77Sk5oF",
        "outputId": "d3bfe268-a36b-4f61-c79e-e3cdb0c204f8"
      },
      "outputs": [
        {
          "name": "stdout",
          "output_type": "stream",
          "text": [
            "tensor([-3.8546e-34,  9.3186e-43,  0.0000e+00])\n"
          ]
        }
      ],
      "source": [
        "x = torch.empty(3)  # vector, 1D\n",
        "print(x)"
      ]
    },
    {
      "cell_type": "code",
      "execution_count": null,
      "metadata": {
        "id": "WaJiDL6xk5oG",
        "outputId": "cc1bbd72-e752-4aa1-bbc7-c83a04c4e946"
      },
      "outputs": [
        {
          "name": "stdout",
          "output_type": "stream",
          "text": [
            "tensor([[0., 0., 0.],\n",
            "        [0., 0., 0.]])\n"
          ]
        }
      ],
      "source": [
        "x = torch.empty(2, 3)  # matrix, 2D\n",
        "print(x)"
      ]
    },
    {
      "cell_type": "code",
      "execution_count": null,
      "metadata": {
        "id": "xzYFCV8Kk5oG",
        "outputId": "1627bbed-8db6-487e-9d52-a76bc7f92791"
      },
      "outputs": [
        {
          "name": "stdout",
          "output_type": "stream",
          "text": [
            "tensor([[[0., 0., 0.],\n",
            "         [0., 0., 0.]],\n",
            "\n",
            "        [[0., 0., 0.],\n",
            "         [0., 0., 0.]]])\n"
          ]
        }
      ],
      "source": [
        "x = torch.empty(2, 2, 3)  # tensor, 3 dimensions\n",
        "print(x)"
      ]
    },
    {
      "cell_type": "code",
      "execution_count": null,
      "metadata": {
        "id": "_PIwf855k5oG",
        "outputId": "2938c2aa-fb9d-4aeb-9e4d-2841cba333de"
      },
      "outputs": [
        {
          "name": "stdout",
          "output_type": "stream",
          "text": [
            "tensor([[[[-3.9726e-34,  9.3186e-43,  0.0000e+00],\n",
            "          [ 0.0000e+00,  0.0000e+00,  0.0000e+00]],\n",
            "\n",
            "         [[ 0.0000e+00,  0.0000e+00,  0.0000e+00],\n",
            "          [ 0.0000e+00,  0.0000e+00,  0.0000e+00]]],\n",
            "\n",
            "\n",
            "        [[[ 0.0000e+00,  0.0000e+00,  0.0000e+00],\n",
            "          [ 0.0000e+00,  0.0000e+00,  0.0000e+00]],\n",
            "\n",
            "         [[ 0.0000e+00,  0.0000e+00,  0.0000e+00],\n",
            "          [ 0.0000e+00,  0.0000e+00,  0.0000e+00]]]])\n"
          ]
        }
      ],
      "source": [
        "x = torch.empty(2, 2, 2, 3)  # tensor, 4 dimensions\n",
        "print(x)"
      ]
    },
    {
      "cell_type": "code",
      "execution_count": null,
      "metadata": {
        "id": "y49BGP1Mk5oG",
        "outputId": "0e9f7703-3648-4be8-f63d-a42b85aacf16"
      },
      "outputs": [
        {
          "name": "stdout",
          "output_type": "stream",
          "text": [
            "tensor([[0.8705, 0.8740, 0.2243],\n",
            "        [0.8138, 0.0290, 0.4090],\n",
            "        [0.6880, 0.1832, 0.1098],\n",
            "        [0.9763, 0.7629, 0.6506],\n",
            "        [0.9682, 0.5157, 0.5089]])\n"
          ]
        }
      ],
      "source": [
        "# torch.rand(size): random numbers [0, 1]\n",
        "x = torch.rand(5, 3)\n",
        "print(x)"
      ]
    },
    {
      "cell_type": "code",
      "execution_count": null,
      "metadata": {
        "id": "o4R2DpzGk5oG",
        "outputId": "5b02ee87-15b1-42b1-f4c9-bada996cd8b0"
      },
      "outputs": [
        {
          "name": "stdout",
          "output_type": "stream",
          "text": [
            "tensor([[1., 1., 1.],\n",
            "        [1., 1., 1.],\n",
            "        [1., 1., 1.],\n",
            "        [1., 1., 1.],\n",
            "        [1., 1., 1.]])\n"
          ]
        }
      ],
      "source": [
        "# torch.zeros(size), fill with 0\n",
        "# torch.ones(size), fill with 1\n",
        "x = torch.ones(5, 3)\n",
        "print(x)"
      ]
    },
    {
      "cell_type": "code",
      "execution_count": null,
      "metadata": {
        "id": "YnCoPqOMk5oH",
        "outputId": "39a0a156-3842-434e-8166-9d67f7f5349b"
      },
      "outputs": [
        {
          "name": "stdout",
          "output_type": "stream",
          "text": [
            "torch.Size([5, 3])\n"
          ]
        }
      ],
      "source": [
        "# check size\n",
        "print(x.size())"
      ]
    },
    {
      "cell_type": "code",
      "execution_count": null,
      "metadata": {
        "id": "3t-kmzz8k5oH",
        "outputId": "e7270b90-cd39-4bf6-deb6-77dfb9074252"
      },
      "outputs": [
        {
          "name": "stdout",
          "output_type": "stream",
          "text": [
            "torch.float32\n"
          ]
        }
      ],
      "source": [
        "# check data type\n",
        "print(x.dtype)"
      ]
    },
    {
      "cell_type": "code",
      "execution_count": null,
      "metadata": {
        "id": "P5a1akQLk5oH",
        "outputId": "5fd536be-cdca-4cfb-96ea-5ce60e28836d"
      },
      "outputs": [
        {
          "name": "stdout",
          "output_type": "stream",
          "text": [
            "tensor([[0., 0., 0.],\n",
            "        [0., 0., 0.],\n",
            "        [0., 0., 0.],\n",
            "        [0., 0., 0.],\n",
            "        [0., 0., 0.]], dtype=torch.float16)\n"
          ]
        }
      ],
      "source": [
        "# specify types, float32 default\n",
        "x = torch.zeros(5, 3, dtype=torch.float16)\n",
        "print(x)"
      ]
    },
    {
      "cell_type": "code",
      "execution_count": null,
      "metadata": {
        "id": "Fij2cZeFk5oH",
        "outputId": "8b88ace3-67bb-471d-8cc6-00b5ace1a267"
      },
      "outputs": [
        {
          "name": "stdout",
          "output_type": "stream",
          "text": [
            "torch.float16\n"
          ]
        }
      ],
      "source": [
        "# check type\n",
        "print(x.dtype)"
      ]
    },
    {
      "cell_type": "code",
      "execution_count": null,
      "metadata": {
        "id": "LOmhXLBlk5oH",
        "outputId": "ac4d84e4-8bd3-444f-9603-e4b5ec9204c6"
      },
      "outputs": [
        {
          "name": "stdout",
          "output_type": "stream",
          "text": [
            "torch.Size([2])\n"
          ]
        }
      ],
      "source": [
        "# construct from python list\n",
        "x = torch.tensor([5.5, 3])\n",
        "print(x.size())"
      ]
    },
    {
      "cell_type": "code",
      "execution_count": null,
      "metadata": {
        "id": "4adwIw5Ok5oH",
        "outputId": "fa5ef6e1-ef2a-428a-dd22-eb1a32f1d3a3"
      },
      "outputs": [
        {
          "name": "stdout",
          "output_type": "stream",
          "text": [
            "tensor([5.5000, 3.0000], requires_grad=True)\n"
          ]
        }
      ],
      "source": [
        "# requires_grad argument\n",
        "# This will tell pytorch that it will need to calculate the gradients for this tensor\n",
        "# later in your optimization steps\n",
        "# i.e. this is a variable in your model that you want to optimize\n",
        "x = torch.tensor([5.5, 3], requires_grad=True)\n",
        "print(x)"
      ]
    },
    {
      "cell_type": "code",
      "execution_count": null,
      "metadata": {
        "id": "aktrMyCuk5oI",
        "outputId": "6c753a40-5577-41e4-bdf1-7c0a1a3540cc"
      },
      "outputs": [
        {
          "name": "stdout",
          "output_type": "stream",
          "text": [
            "tensor([[0.1637, 0.1806],\n",
            "        [0.3494, 0.4243]])\n",
            "tensor([[0.3583, 0.7604],\n",
            "        [0.1176, 0.2907]])\n"
          ]
        }
      ],
      "source": [
        "# Operations\n",
        "y = torch.rand(2, 2)\n",
        "x = torch.rand(2, 2)\n",
        "print(x)\n",
        "print(y)"
      ]
    },
    {
      "cell_type": "code",
      "execution_count": null,
      "metadata": {
        "id": "hds_Cyygk5oI",
        "outputId": "e835ebd9-d795-49c6-9c66-e123287a13bf"
      },
      "outputs": [
        {
          "name": "stdout",
          "output_type": "stream",
          "text": [
            "tensor([[0.5220, 0.9410],\n",
            "        [0.4670, 0.7151]])\n",
            "tensor([[0.5220, 0.9410],\n",
            "        [0.4670, 0.7151]])\n"
          ]
        }
      ],
      "source": [
        "# elementwise addition\n",
        "z = x + y\n",
        "z2 = torch.add(x, y)\n",
        "print(z)\n",
        "print(z2)"
      ]
    },
    {
      "cell_type": "code",
      "execution_count": null,
      "metadata": {
        "id": "DMh9AhR3k5oI",
        "outputId": "d38f18ae-1469-4e01-91d1-894f06e78853"
      },
      "outputs": [
        {
          "name": "stdout",
          "output_type": "stream",
          "text": [
            "tensor([[0.6857, 1.1215],\n",
            "        [0.8165, 1.1394]])\n"
          ]
        }
      ],
      "source": [
        "# in place addition, everythin with a trailing underscore is an inplace operation\n",
        "# i.e. it will modify the variable\n",
        "z.add_(x)\n",
        "print(z)"
      ]
    },
    {
      "cell_type": "code",
      "execution_count": null,
      "metadata": {
        "id": "QzfPJQjnk5oI",
        "outputId": "de8c9bea-e659-4ebd-b652-07cc325cd506"
      },
      "outputs": [
        {
          "name": "stdout",
          "output_type": "stream",
          "text": [
            "tensor([[-0.1945, -0.5798],\n",
            "        [ 0.2318,  0.1336]])\n"
          ]
        }
      ],
      "source": [
        "# substraction\n",
        "z = x - y\n",
        "z = torch.sub(x, y)\n",
        "print(z)"
      ]
    },
    {
      "cell_type": "code",
      "execution_count": null,
      "metadata": {
        "id": "U8g5gyVwk5oI",
        "outputId": "6e10dfd4-41ab-49cd-af0d-6a5ccb3d50a0"
      },
      "outputs": [
        {
          "name": "stdout",
          "output_type": "stream",
          "text": [
            "tensor([[0.0587, 0.1373],\n",
            "        [0.0411, 0.1234]])\n"
          ]
        }
      ],
      "source": [
        "# multiplication\n",
        "z = x * y\n",
        "z = torch.mul(x, y)\n",
        "print(z)"
      ]
    },
    {
      "cell_type": "code",
      "execution_count": null,
      "metadata": {
        "id": "Hq53ow_Nk5oI",
        "outputId": "1421b96d-b381-42b4-fced-5b46d7be4b50"
      },
      "outputs": [
        {
          "name": "stdout",
          "output_type": "stream",
          "text": [
            "tensor([[0.4570, 0.2375],\n",
            "        [2.9716, 1.4596]])\n"
          ]
        }
      ],
      "source": [
        "# division\n",
        "z = x / y\n",
        "z = torch.div(x, y)\n",
        "print(z)"
      ]
    },
    {
      "cell_type": "code",
      "execution_count": null,
      "metadata": {
        "id": "kvf3xEzgk5oJ",
        "outputId": "5e1bb974-04c6-4fca-ced6-8d617257e3ba"
      },
      "outputs": [
        {
          "name": "stdout",
          "output_type": "stream",
          "text": [
            "tensor([[0.6940, 0.6637, 0.2004],\n",
            "        [0.7846, 0.0184, 0.3658],\n",
            "        [0.3973, 0.0232, 0.1009],\n",
            "        [0.7253, 0.9164, 0.9660],\n",
            "        [0.8640, 0.2613, 0.8391]])\n",
            "tensor([0.6940, 0.7846, 0.3973, 0.7253, 0.8640])\n",
            "tensor([0.7846, 0.0184, 0.3658])\n",
            "tensor(0.0184)\n"
          ]
        }
      ],
      "source": [
        "# Slicing\n",
        "x = torch.rand(5, 3)\n",
        "print(x)\n",
        "print(x[:, 0])  # all rows, column 0\n",
        "print(x[1, :])  # row 1, all columns\n",
        "print(x[1, 1])  # element at 1, 1"
      ]
    },
    {
      "cell_type": "code",
      "execution_count": null,
      "metadata": {
        "id": "FrZ2Mvytk5oJ",
        "outputId": "dcd6b33f-8ee7-48ba-e178-0618c1a530e5"
      },
      "outputs": [
        {
          "name": "stdout",
          "output_type": "stream",
          "text": [
            "0.01843160390853882\n"
          ]
        }
      ],
      "source": [
        "# Get the actual value if only 1 element in your tensor\n",
        "print(x[1, 1].item())"
      ]
    },
    {
      "cell_type": "code",
      "execution_count": null,
      "metadata": {
        "id": "wDm1VysEk5oJ",
        "outputId": "d878731b-2758-46f9-890b-62fc756136d7"
      },
      "outputs": [
        {
          "name": "stdout",
          "output_type": "stream",
          "text": [
            "tensor([[ 0.8092,  0.7406, -0.3241,  0.1249],\n",
            "        [-1.4173, -1.3692, -0.3851,  0.2380],\n",
            "        [-0.9106,  1.6567, -1.4502, -2.2673],\n",
            "        [ 0.6244, -0.3969,  0.4928,  1.4626]]) torch.Size([4, 4])\n",
            "tensor([ 0.8092,  0.7406, -0.3241,  0.1249, -1.4173, -1.3692, -0.3851,  0.2380,\n",
            "        -0.9106,  1.6567, -1.4502, -2.2673,  0.6244, -0.3969,  0.4928,  1.4626]) torch.Size([16])\n",
            "tensor([[ 0.8092,  0.7406, -0.3241,  0.1249, -1.4173, -1.3692, -0.3851,  0.2380],\n",
            "        [-0.9106,  1.6567, -1.4502, -2.2673,  0.6244, -0.3969,  0.4928,  1.4626]]) torch.Size([2, 8])\n"
          ]
        }
      ],
      "source": [
        "# Reshape with torch.view()\n",
        "x = torch.randn(4, 4)\n",
        "y = x.view(16)\n",
        "z = x.view(-1, 8)  # the size -1 is inferred from other dimensions\n",
        "# if -1 it pytorch will automatically determine the necessary size\n",
        "\n",
        "print(x, x.size())\n",
        "print(y, y.size())\n",
        "print(z, z.size())"
      ]
    },
    {
      "cell_type": "code",
      "execution_count": null,
      "metadata": {
        "id": "ZxWU0iQJk5oJ",
        "outputId": "e738639d-bd52-4bf1-9277-97b48d30670d"
      },
      "outputs": [
        {
          "name": "stdout",
          "output_type": "stream",
          "text": [
            "tensor([1., 1., 1., 1., 1.])\n"
          ]
        }
      ],
      "source": [
        "# Numpy\n",
        "# Converting a Torch Tensor to a NumPy array and vice versa is very easy\n",
        "a = torch.ones(5)\n",
        "print(a)"
      ]
    },
    {
      "cell_type": "code",
      "execution_count": null,
      "metadata": {
        "id": "sExoCWuok5oJ",
        "outputId": "50b0d163-a0e3-4c74-f5da-cef067119ff6"
      },
      "outputs": [
        {
          "name": "stdout",
          "output_type": "stream",
          "text": [
            "[1. 1. 1. 1. 1.]\n",
            "<class 'numpy.ndarray'>\n",
            "tensor([2., 2., 2., 2., 2.])\n",
            "[2. 2. 2. 2. 2.]\n"
          ]
        }
      ],
      "source": [
        "# torch to numpy with .numpy()\n",
        "b = a.numpy()\n",
        "print(b)\n",
        "print(type(b))\n",
        "\n",
        "# Careful: If the Tensor is on the CPU (not the GPU),\n",
        "# both objects will share the same memory location, so changing one\n",
        "# will also change the other\n",
        "a.add_(1)\n",
        "print(a)\n",
        "print(b)"
      ]
    },
    {
      "cell_type": "code",
      "execution_count": null,
      "metadata": {
        "id": "ofRO3LLSk5oJ",
        "outputId": "1d50bb85-9050-46b8-96bc-040fbd6689c8"
      },
      "outputs": [
        {
          "name": "stdout",
          "output_type": "stream",
          "text": [
            "[1. 1. 1. 1. 1.]\n",
            "tensor([1., 1., 1., 1., 1.], dtype=torch.float64)\n",
            "[2. 2. 2. 2. 2.]\n",
            "tensor([2., 2., 2., 2., 2.], dtype=torch.float64)\n"
          ]
        }
      ],
      "source": [
        "# numpy to torch with .from_numpy(x)\n",
        "import numpy as np\n",
        "a = np.ones(5)\n",
        "b = torch.from_numpy(a)\n",
        "print(a)\n",
        "print(b)\n",
        "\n",
        "# again be careful when modifying\n",
        "a += 1\n",
        "print(a)\n",
        "print(b)"
      ]
    },
    {
      "cell_type": "code",
      "execution_count": null,
      "metadata": {
        "id": "_TVs60eck5oJ",
        "outputId": "eda1d473-891c-4c38-f368-973e82259fe4"
      },
      "outputs": [
        {
          "name": "stdout",
          "output_type": "stream",
          "text": [
            "tensor([[1., 1., 1., 1.],\n",
            "        [1., 1., 1., 1.],\n",
            "        [1., 1., 1., 1.],\n",
            "        [1., 1., 1., 1.]], device='cuda:0')\n",
            "tensor([[ 0.8092,  0.7406, -0.3241,  0.1249],\n",
            "        [-1.4173, -1.3692, -0.3851,  0.2380],\n",
            "        [-0.9106,  1.6567, -1.4502, -2.2673],\n",
            "        [ 0.6244, -0.3969,  0.4928,  1.4626]], device='cuda:0')\n",
            "tensor([[ 1.8092,  1.7406,  0.6759,  1.1249],\n",
            "        [-0.4173, -0.3692,  0.6149,  1.2380],\n",
            "        [ 0.0894,  2.6567, -0.4502, -1.2673],\n",
            "        [ 1.6244,  0.6031,  1.4928,  2.4626]], device='cuda:0')\n",
            "[[ 1.8092208   1.7405617   0.6759486   1.1249104 ]\n",
            " [-0.41731536 -0.36915398  0.6149081   1.2379774 ]\n",
            " [ 0.08935416  2.656694   -0.45022535 -1.2673371 ]\n",
            " [ 1.624419    0.6030699   1.4927666   2.4625907 ]]\n"
          ]
        }
      ],
      "source": [
        "# by default all tensors are created on the CPU,\n",
        "# but you can also move them to the GPU (only if it's available )\n",
        "if torch.cuda.is_available():\n",
        "    device = torch.device(\"cuda\")          # a CUDA device object\n",
        "    y = torch.ones_like(x, device=device)  # directly create a tensor on GPU\n",
        "    print(y)\n",
        "\n",
        "    # or just use strings ``.to(\"cuda\")``\n",
        "    x = x.to(device)\n",
        "    print(x)\n",
        "\n",
        "    z = x + y\n",
        "    print(z)\n",
        "\n",
        "    # z = z.numpy() # not possible because numpy cannot handle GPU tenors\n",
        "\n",
        "    # Move the tensor to CPU and then convert it to NumPy array\n",
        "    z_cpu = z.cpu()  # Move tensor to CPU\n",
        "    z_numpy = z_cpu.numpy()  # Convert tensor to NumPy array\n",
        "    print(z_numpy)"
      ]
    },
    {
      "cell_type": "code",
      "execution_count": null,
      "metadata": {
        "id": "PFErF0aOk5oJ"
      },
      "outputs": [],
      "source": [
        "# Different bewteen ones_like and ones\n",
        "# ones_like will have the same size as the input tensor\n",
        "# ones will have the size you specify"
      ]
    }
  ],
  "metadata": {
    "kernelspec": {
      "display_name": "Python 3",
      "name": "python3"
    },
    "language_info": {
      "codemirror_mode": {
        "name": "ipython",
        "version": 3
      },
      "file_extension": ".py",
      "mimetype": "text/x-python",
      "name": "python",
      "nbconvert_exporter": "python",
      "pygments_lexer": "ipython3",
      "version": "3.10.12"
    },
    "colab": {
      "provenance": [],
      "gpuType": "T4",
      "include_colab_link": true
    },
    "accelerator": "GPU"
  },
  "nbformat": 4,
  "nbformat_minor": 0
}